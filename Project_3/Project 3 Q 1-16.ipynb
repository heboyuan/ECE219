{
 "cells": [
  {
   "cell_type": "code",
   "execution_count": 1,
   "metadata": {},
   "outputs": [],
   "source": [
    "from tqdm.notebook import tqdm\n",
    "import matplotlib.pyplot as plt\n",
    "import seaborn as sns\n",
    "import numpy as np\n",
    "import pandas as pd\n",
    "import random\n",
    "import string\n",
    "import sys\n",
    "\n",
    "import warnings\n",
    "warnings.filterwarnings('ignore')\n",
    "\n",
    "np.set_printoptions(precision=4, suppress=True)\n",
    "\n",
    "RANDOM_SEED = 42\n",
    "\n",
    "np.random.seed(RANDOM_SEED)\n",
    "random.seed(RANDOM_SEED)"
   ]
  },
  {
   "cell_type": "code",
   "execution_count": 2,
   "metadata": {},
   "outputs": [
    {
     "data": {
      "text/html": [
       "<div>\n",
       "<style scoped>\n",
       "    .dataframe tbody tr th:only-of-type {\n",
       "        vertical-align: middle;\n",
       "    }\n",
       "\n",
       "    .dataframe tbody tr th {\n",
       "        vertical-align: top;\n",
       "    }\n",
       "\n",
       "    .dataframe thead th {\n",
       "        text-align: right;\n",
       "    }\n",
       "</style>\n",
       "<table border=\"1\" class=\"dataframe\">\n",
       "  <thead>\n",
       "    <tr style=\"text-align: right;\">\n",
       "      <th>movieId</th>\n",
       "      <th>1</th>\n",
       "      <th>2</th>\n",
       "      <th>3</th>\n",
       "      <th>4</th>\n",
       "      <th>5</th>\n",
       "      <th>6</th>\n",
       "      <th>7</th>\n",
       "      <th>8</th>\n",
       "      <th>9</th>\n",
       "      <th>10</th>\n",
       "      <th>...</th>\n",
       "      <th>193565</th>\n",
       "      <th>193567</th>\n",
       "      <th>193571</th>\n",
       "      <th>193573</th>\n",
       "      <th>193579</th>\n",
       "      <th>193581</th>\n",
       "      <th>193583</th>\n",
       "      <th>193585</th>\n",
       "      <th>193587</th>\n",
       "      <th>193609</th>\n",
       "    </tr>\n",
       "    <tr>\n",
       "      <th>userId</th>\n",
       "      <th></th>\n",
       "      <th></th>\n",
       "      <th></th>\n",
       "      <th></th>\n",
       "      <th></th>\n",
       "      <th></th>\n",
       "      <th></th>\n",
       "      <th></th>\n",
       "      <th></th>\n",
       "      <th></th>\n",
       "      <th></th>\n",
       "      <th></th>\n",
       "      <th></th>\n",
       "      <th></th>\n",
       "      <th></th>\n",
       "      <th></th>\n",
       "      <th></th>\n",
       "      <th></th>\n",
       "      <th></th>\n",
       "      <th></th>\n",
       "      <th></th>\n",
       "    </tr>\n",
       "  </thead>\n",
       "  <tbody>\n",
       "    <tr>\n",
       "      <th>1</th>\n",
       "      <td>4.0</td>\n",
       "      <td>NaN</td>\n",
       "      <td>4.0</td>\n",
       "      <td>NaN</td>\n",
       "      <td>NaN</td>\n",
       "      <td>4.0</td>\n",
       "      <td>NaN</td>\n",
       "      <td>NaN</td>\n",
       "      <td>NaN</td>\n",
       "      <td>NaN</td>\n",
       "      <td>...</td>\n",
       "      <td>NaN</td>\n",
       "      <td>NaN</td>\n",
       "      <td>NaN</td>\n",
       "      <td>NaN</td>\n",
       "      <td>NaN</td>\n",
       "      <td>NaN</td>\n",
       "      <td>NaN</td>\n",
       "      <td>NaN</td>\n",
       "      <td>NaN</td>\n",
       "      <td>NaN</td>\n",
       "    </tr>\n",
       "    <tr>\n",
       "      <th>2</th>\n",
       "      <td>NaN</td>\n",
       "      <td>NaN</td>\n",
       "      <td>NaN</td>\n",
       "      <td>NaN</td>\n",
       "      <td>NaN</td>\n",
       "      <td>NaN</td>\n",
       "      <td>NaN</td>\n",
       "      <td>NaN</td>\n",
       "      <td>NaN</td>\n",
       "      <td>NaN</td>\n",
       "      <td>...</td>\n",
       "      <td>NaN</td>\n",
       "      <td>NaN</td>\n",
       "      <td>NaN</td>\n",
       "      <td>NaN</td>\n",
       "      <td>NaN</td>\n",
       "      <td>NaN</td>\n",
       "      <td>NaN</td>\n",
       "      <td>NaN</td>\n",
       "      <td>NaN</td>\n",
       "      <td>NaN</td>\n",
       "    </tr>\n",
       "    <tr>\n",
       "      <th>3</th>\n",
       "      <td>NaN</td>\n",
       "      <td>NaN</td>\n",
       "      <td>NaN</td>\n",
       "      <td>NaN</td>\n",
       "      <td>NaN</td>\n",
       "      <td>NaN</td>\n",
       "      <td>NaN</td>\n",
       "      <td>NaN</td>\n",
       "      <td>NaN</td>\n",
       "      <td>NaN</td>\n",
       "      <td>...</td>\n",
       "      <td>NaN</td>\n",
       "      <td>NaN</td>\n",
       "      <td>NaN</td>\n",
       "      <td>NaN</td>\n",
       "      <td>NaN</td>\n",
       "      <td>NaN</td>\n",
       "      <td>NaN</td>\n",
       "      <td>NaN</td>\n",
       "      <td>NaN</td>\n",
       "      <td>NaN</td>\n",
       "    </tr>\n",
       "    <tr>\n",
       "      <th>4</th>\n",
       "      <td>NaN</td>\n",
       "      <td>NaN</td>\n",
       "      <td>NaN</td>\n",
       "      <td>NaN</td>\n",
       "      <td>NaN</td>\n",
       "      <td>NaN</td>\n",
       "      <td>NaN</td>\n",
       "      <td>NaN</td>\n",
       "      <td>NaN</td>\n",
       "      <td>NaN</td>\n",
       "      <td>...</td>\n",
       "      <td>NaN</td>\n",
       "      <td>NaN</td>\n",
       "      <td>NaN</td>\n",
       "      <td>NaN</td>\n",
       "      <td>NaN</td>\n",
       "      <td>NaN</td>\n",
       "      <td>NaN</td>\n",
       "      <td>NaN</td>\n",
       "      <td>NaN</td>\n",
       "      <td>NaN</td>\n",
       "    </tr>\n",
       "    <tr>\n",
       "      <th>5</th>\n",
       "      <td>4.0</td>\n",
       "      <td>NaN</td>\n",
       "      <td>NaN</td>\n",
       "      <td>NaN</td>\n",
       "      <td>NaN</td>\n",
       "      <td>NaN</td>\n",
       "      <td>NaN</td>\n",
       "      <td>NaN</td>\n",
       "      <td>NaN</td>\n",
       "      <td>NaN</td>\n",
       "      <td>...</td>\n",
       "      <td>NaN</td>\n",
       "      <td>NaN</td>\n",
       "      <td>NaN</td>\n",
       "      <td>NaN</td>\n",
       "      <td>NaN</td>\n",
       "      <td>NaN</td>\n",
       "      <td>NaN</td>\n",
       "      <td>NaN</td>\n",
       "      <td>NaN</td>\n",
       "      <td>NaN</td>\n",
       "    </tr>\n",
       "  </tbody>\n",
       "</table>\n",
       "<p>5 rows × 9724 columns</p>\n",
       "</div>"
      ],
      "text/plain": [
       "movieId  1       2       3       4       5       6       7       8       \\\n",
       "userId                                                                    \n",
       "1           4.0     NaN     4.0     NaN     NaN     4.0     NaN     NaN   \n",
       "2           NaN     NaN     NaN     NaN     NaN     NaN     NaN     NaN   \n",
       "3           NaN     NaN     NaN     NaN     NaN     NaN     NaN     NaN   \n",
       "4           NaN     NaN     NaN     NaN     NaN     NaN     NaN     NaN   \n",
       "5           4.0     NaN     NaN     NaN     NaN     NaN     NaN     NaN   \n",
       "\n",
       "movieId  9       10      ...  193565  193567  193571  193573  193579  193581  \\\n",
       "userId                   ...                                                   \n",
       "1           NaN     NaN  ...     NaN     NaN     NaN     NaN     NaN     NaN   \n",
       "2           NaN     NaN  ...     NaN     NaN     NaN     NaN     NaN     NaN   \n",
       "3           NaN     NaN  ...     NaN     NaN     NaN     NaN     NaN     NaN   \n",
       "4           NaN     NaN  ...     NaN     NaN     NaN     NaN     NaN     NaN   \n",
       "5           NaN     NaN  ...     NaN     NaN     NaN     NaN     NaN     NaN   \n",
       "\n",
       "movieId  193583  193585  193587  193609  \n",
       "userId                                   \n",
       "1           NaN     NaN     NaN     NaN  \n",
       "2           NaN     NaN     NaN     NaN  \n",
       "3           NaN     NaN     NaN     NaN  \n",
       "4           NaN     NaN     NaN     NaN  \n",
       "5           NaN     NaN     NaN     NaN  \n",
       "\n",
       "[5 rows x 9724 columns]"
      ]
     },
     "execution_count": 2,
     "metadata": {},
     "output_type": "execute_result"
    }
   ],
   "source": [
    "cols = [\"userId\", \"movieId\", \"rating\"]\n",
    "Rdf = pd.read_csv('C:/Work/UCLA/Winter 2021/219 Large Scale Data Mining Models and Algorithms/Project_3/ml-latest-small/ratings.csv',usecols = cols)\n",
    "#Rdf = pd.read_csv('C:/Work/UCLA/Winter 2021/219 Large Scale Data Mining Models and Algorithms/Project_3/ml-latest-small/tp.csv',usecols = cols)\n",
    "R = Rdf.pivot(index = \"userId\", columns = \"movieId\", values = \"rating\")\n",
    "R.head()"
   ]
  },
  {
   "cell_type": "code",
   "execution_count": 80,
   "metadata": {},
   "outputs": [
    {
     "name": "stdout",
     "output_type": "stream",
     "text": [
      "Number of users: 610\n",
      "Number of movies: 9724\n"
     ]
    }
   ],
   "source": [
    "R = R.to_numpy()  #R is now the numpy Ratings matrix\n",
    "m = R.shape[0]      #m is the number of users\n",
    "n = R.shape[1]      #n is the number of movies\n",
    "\n",
    "print(\"Number of users:\", m)\n",
    "print(\"Number of movies:\", n)\n"
   ]
  },
  {
   "cell_type": "markdown",
   "metadata": {},
   "source": [
    "## Q1. Sparsity"
   ]
  },
  {
   "cell_type": "code",
   "execution_count": 81,
   "metadata": {},
   "outputs": [
    {
     "name": "stdout",
     "output_type": "stream",
     "text": [
      "Sparsity is 0.016999683055613623\n",
      "Num of available ratings =  100836\n",
      "Num of possible ratings =  5931640\n"
     ]
    }
   ],
   "source": [
    "num_ratings = Rdf.shape[0]\n",
    "sparsity = num_ratings/(m*n)\n",
    "\n",
    "print(\"Sparsity is\", sparsity)\n",
    "print(\"Num of available ratings = \", num_ratings)\n",
    "print(\"Num of possible ratings = \", m*n)\n"
   ]
  },
  {
   "cell_type": "markdown",
   "metadata": {},
   "source": [
    "## Q2. Histogram showing frequency of rating values"
   ]
  },
  {
   "cell_type": "code",
   "execution_count": 82,
   "metadata": {},
   "outputs": [
    {
     "data": {
      "image/png": "[encoded data removed]",
      "text/plain": [
       "<Figure size 432x288 with 1 Axes>"
      ]
     },
     "metadata": {
      "needs_background": "light"
     },
     "output_type": "display_data"
    }
   ],
   "source": [
    "plt.hist(Rdf[\"rating\"], bins = 10)\n",
    "plt.title(\"Histogram of ratings\")\n",
    "plt.xlabel(\"Ratings\")\n",
    "plt.show()"
   ]
  },
  {
   "cell_type": "markdown",
   "metadata": {},
   "source": [
    "## Q3. Distribution of number of ratings received among movies"
   ]
  },
  {
   "cell_type": "code",
   "execution_count": 83,
   "metadata": {},
   "outputs": [
    {
     "data": {
      "image/png": "[encoded data removed]",
      "text/plain": [
       "<Figure size 432x288 with 1 Axes>"
      ]
     },
     "metadata": {
      "needs_background": "light"
     },
     "output_type": "display_data"
    }
   ],
   "source": [
    "mov = Rdf['movieId'].value_counts()\n",
    "mov = mov.to_numpy()\n",
    "\n",
    "plt.plot(np.arange(1,n+1), mov)\n",
    "plt.xticks(np.arange(1,n+1))\n",
    "plt.title(\"Number of ratings received\")\n",
    "plt.xlabel(\"Movie\")\n",
    "plt.show()"
   ]
  },
  {
   "cell_type": "markdown",
   "metadata": {},
   "source": [
    "## Q4. Distribution of the number of ratings among users"
   ]
  },
  {
   "cell_type": "code",
   "execution_count": 84,
   "metadata": {},
   "outputs": [
    {
     "data": {
      "image/png": "[encoded data removed]",
      "text/plain": [
       "<Figure size 432x288 with 1 Axes>"
      ]
     },
     "metadata": {
      "needs_background": "light"
     },
     "output_type": "display_data"
    }
   ],
   "source": [
    "users = Rdf['userId'].value_counts()\n",
    "users = users.to_numpy()\n",
    "\n",
    "plt.plot(np.arange(1,m+1), users)\n",
    "plt.xticks(np.arange(1,m+1))\n",
    "plt.title(\"Number of ratings received\")\n",
    "plt.xlabel(\"User\")\n",
    "plt.show()"
   ]
  },
  {
   "cell_type": "markdown",
   "metadata": {},
   "source": [
    "## Q5. Features of the ratings distribution"
   ]
  },
  {
   "cell_type": "markdown",
   "metadata": {},
   "source": [
    "## Q6. Histogram of variance of the rating values received by each movie"
   ]
  },
  {
   "cell_type": "code",
   "execution_count": 85,
   "metadata": {},
   "outputs": [
    {
     "name": "stdout",
     "output_type": "stream",
     "text": [
      "Maximum variance is 5.0625\n",
      "Minimum variance is 0.0\n"
     ]
    },
    {
     "data": {
      "image/png": "[encoded data removed]",
      "text/plain": [
       "<Figure size 432x288 with 1 Axes>"
      ]
     },
     "metadata": {
      "needs_background": "light"
     },
     "output_type": "display_data"
    }
   ],
   "source": [
    "mov_var = Rdf[[\"movieId\",\"rating\"]].groupby(['movieId']).var(ddof=0) #Ref: ddof = 0 makes the divisor used in calculations N-ddof = N\n",
    "mov_var = mov_var.to_numpy()\n",
    "mov_var = np.squeeze(mov_var)\n",
    "\n",
    "print(\"Maximum variance is\", np.max(mov_var))\n",
    "print(\"Minimum variance is\",np.min(mov_var))\n",
    "bins = np.ceil((np.max(mov_var) - np.min(mov_var))/0.5)\n",
    "#print(bins)\n",
    "plt.hist(mov_var, bins = int(bins))\n",
    "plt.title(\"Distribution of the variance of ratings\")\n",
    "plt.xlabel(\"Variance of ratings\")\n",
    "plt.show()"
   ]
  },
  {
   "cell_type": "markdown",
   "metadata": {},
   "source": [
    "## Q7. Pearson Correlation Coefficient"
   ]
  },
  {
   "cell_type": "markdown",
   "metadata": {},
   "source": [
    "<font size=\"5\">$\\mu_u = \\frac{\\Sigma_{k \\in I_u}r_{uk}}{size(I_u)}$</font>"
   ]
  },
  {
   "cell_type": "markdown",
   "metadata": {},
   "source": [
    "## Q8. \n",
    "\n",
    "$I_u \\cap I_v = \\phi$ indicates that there were no common movies rated by both user $u$ and user $v$"
   ]
  },
  {
   "cell_type": "markdown",
   "metadata": {},
   "source": [
    "## Q9. Mean centering\n",
    "\n",
    "Since ratings ought to help us compare how much a user liked one movie over the others they watched, mean centered ratings are a better measure for this purpose. This is because mean centering removes the individual bias of users - some users give raw ratings in the higher ranges for all movies, and hence mean centering allows us to conclude that the now positive rated movies are the ones they prefer more than an average movie according to them."
   ]
  },
  {
   "cell_type": "code",
   "execution_count": 86,
   "metadata": {},
   "outputs": [],
   "source": [
    "#conda install -c conda-forge scikit-surprise"
   ]
  },
  {
   "cell_type": "markdown",
   "metadata": {},
   "source": [
    "## Q 10."
   ]
  },
  {
   "cell_type": "code",
   "execution_count": 3,
   "metadata": {},
   "outputs": [],
   "source": [
    "from surprise import Reader\n",
    "from surprise import Dataset\n",
    "from surprise.prediction_algorithms.knns import KNNWithMeans\n",
    "from surprise import similarities\n",
    "from surprise.model_selection import cross_validate\n",
    "from surprise.model_selection import KFold\n",
    "from surprise import accuracy"
   ]
  },
  {
   "cell_type": "code",
   "execution_count": 88,
   "metadata": {
    "scrolled": true
   },
   "outputs": [
    {
     "data": {
      "text/html": [
       "<div>\n",
       "<style scoped>\n",
       "    .dataframe tbody tr th:only-of-type {\n",
       "        vertical-align: middle;\n",
       "    }\n",
       "\n",
       "    .dataframe tbody tr th {\n",
       "        vertical-align: top;\n",
       "    }\n",
       "\n",
       "    .dataframe thead th {\n",
       "        text-align: right;\n",
       "    }\n",
       "</style>\n",
       "<table border=\"1\" class=\"dataframe\">\n",
       "  <thead>\n",
       "    <tr style=\"text-align: right;\">\n",
       "      <th></th>\n",
       "      <th>Avg RMSE</th>\n",
       "      <th>Avg MAE</th>\n",
       "    </tr>\n",
       "  </thead>\n",
       "  <tbody>\n",
       "    <tr>\n",
       "      <th>2</th>\n",
       "      <td>1.018185</td>\n",
       "      <td>0.785315</td>\n",
       "    </tr>\n",
       "    <tr>\n",
       "      <th>4</th>\n",
       "      <td>0.945780</td>\n",
       "      <td>0.726422</td>\n",
       "    </tr>\n",
       "    <tr>\n",
       "      <th>6</th>\n",
       "      <td>0.919274</td>\n",
       "      <td>0.704402</td>\n",
       "    </tr>\n",
       "    <tr>\n",
       "      <th>8</th>\n",
       "      <td>0.907985</td>\n",
       "      <td>0.694670</td>\n",
       "    </tr>\n",
       "    <tr>\n",
       "      <th>10</th>\n",
       "      <td>0.900566</td>\n",
       "      <td>0.688128</td>\n",
       "    </tr>\n",
       "    <tr>\n",
       "      <th>12</th>\n",
       "      <td>0.898031</td>\n",
       "      <td>0.685315</td>\n",
       "    </tr>\n",
       "    <tr>\n",
       "      <th>14</th>\n",
       "      <td>0.895245</td>\n",
       "      <td>0.682683</td>\n",
       "    </tr>\n",
       "    <tr>\n",
       "      <th>16</th>\n",
       "      <td>0.892838</td>\n",
       "      <td>0.680807</td>\n",
       "    </tr>\n",
       "    <tr>\n",
       "      <th>18</th>\n",
       "      <td>0.893598</td>\n",
       "      <td>0.680957</td>\n",
       "    </tr>\n",
       "    <tr>\n",
       "      <th>20</th>\n",
       "      <td>0.891548</td>\n",
       "      <td>0.679053</td>\n",
       "    </tr>\n",
       "    <tr>\n",
       "      <th>22</th>\n",
       "      <td>0.890492</td>\n",
       "      <td>0.678661</td>\n",
       "    </tr>\n",
       "    <tr>\n",
       "      <th>24</th>\n",
       "      <td>0.891178</td>\n",
       "      <td>0.678899</td>\n",
       "    </tr>\n",
       "    <tr>\n",
       "      <th>26</th>\n",
       "      <td>0.890790</td>\n",
       "      <td>0.678243</td>\n",
       "    </tr>\n",
       "    <tr>\n",
       "      <th>28</th>\n",
       "      <td>0.889896</td>\n",
       "      <td>0.677627</td>\n",
       "    </tr>\n",
       "    <tr>\n",
       "      <th>30</th>\n",
       "      <td>0.890224</td>\n",
       "      <td>0.677997</td>\n",
       "    </tr>\n",
       "    <tr>\n",
       "      <th>32</th>\n",
       "      <td>0.889658</td>\n",
       "      <td>0.677616</td>\n",
       "    </tr>\n",
       "    <tr>\n",
       "      <th>34</th>\n",
       "      <td>0.889924</td>\n",
       "      <td>0.677401</td>\n",
       "    </tr>\n",
       "    <tr>\n",
       "      <th>36</th>\n",
       "      <td>0.889983</td>\n",
       "      <td>0.677771</td>\n",
       "    </tr>\n",
       "    <tr>\n",
       "      <th>38</th>\n",
       "      <td>0.889405</td>\n",
       "      <td>0.677288</td>\n",
       "    </tr>\n",
       "    <tr>\n",
       "      <th>40</th>\n",
       "      <td>0.889895</td>\n",
       "      <td>0.677780</td>\n",
       "    </tr>\n",
       "    <tr>\n",
       "      <th>42</th>\n",
       "      <td>0.889430</td>\n",
       "      <td>0.677497</td>\n",
       "    </tr>\n",
       "    <tr>\n",
       "      <th>44</th>\n",
       "      <td>0.890063</td>\n",
       "      <td>0.677914</td>\n",
       "    </tr>\n",
       "    <tr>\n",
       "      <th>46</th>\n",
       "      <td>0.888887</td>\n",
       "      <td>0.676999</td>\n",
       "    </tr>\n",
       "    <tr>\n",
       "      <th>48</th>\n",
       "      <td>0.889206</td>\n",
       "      <td>0.677133</td>\n",
       "    </tr>\n",
       "    <tr>\n",
       "      <th>50</th>\n",
       "      <td>0.890377</td>\n",
       "      <td>0.677605</td>\n",
       "    </tr>\n",
       "    <tr>\n",
       "      <th>52</th>\n",
       "      <td>0.890017</td>\n",
       "      <td>0.677512</td>\n",
       "    </tr>\n",
       "    <tr>\n",
       "      <th>54</th>\n",
       "      <td>0.889651</td>\n",
       "      <td>0.677271</td>\n",
       "    </tr>\n",
       "    <tr>\n",
       "      <th>56</th>\n",
       "      <td>0.889203</td>\n",
       "      <td>0.676932</td>\n",
       "    </tr>\n",
       "    <tr>\n",
       "      <th>58</th>\n",
       "      <td>0.889188</td>\n",
       "      <td>0.677363</td>\n",
       "    </tr>\n",
       "    <tr>\n",
       "      <th>60</th>\n",
       "      <td>0.890454</td>\n",
       "      <td>0.677981</td>\n",
       "    </tr>\n",
       "    <tr>\n",
       "      <th>62</th>\n",
       "      <td>0.890219</td>\n",
       "      <td>0.677948</td>\n",
       "    </tr>\n",
       "    <tr>\n",
       "      <th>64</th>\n",
       "      <td>0.889975</td>\n",
       "      <td>0.677395</td>\n",
       "    </tr>\n",
       "    <tr>\n",
       "      <th>66</th>\n",
       "      <td>0.890996</td>\n",
       "      <td>0.678260</td>\n",
       "    </tr>\n",
       "    <tr>\n",
       "      <th>68</th>\n",
       "      <td>0.889610</td>\n",
       "      <td>0.677476</td>\n",
       "    </tr>\n",
       "    <tr>\n",
       "      <th>70</th>\n",
       "      <td>0.889597</td>\n",
       "      <td>0.677185</td>\n",
       "    </tr>\n",
       "    <tr>\n",
       "      <th>72</th>\n",
       "      <td>0.888651</td>\n",
       "      <td>0.677122</td>\n",
       "    </tr>\n",
       "    <tr>\n",
       "      <th>74</th>\n",
       "      <td>0.890439</td>\n",
       "      <td>0.678246</td>\n",
       "    </tr>\n",
       "    <tr>\n",
       "      <th>76</th>\n",
       "      <td>0.889922</td>\n",
       "      <td>0.677737</td>\n",
       "    </tr>\n",
       "    <tr>\n",
       "      <th>78</th>\n",
       "      <td>0.889441</td>\n",
       "      <td>0.677554</td>\n",
       "    </tr>\n",
       "    <tr>\n",
       "      <th>80</th>\n",
       "      <td>0.890499</td>\n",
       "      <td>0.678370</td>\n",
       "    </tr>\n",
       "    <tr>\n",
       "      <th>82</th>\n",
       "      <td>0.889595</td>\n",
       "      <td>0.677582</td>\n",
       "    </tr>\n",
       "    <tr>\n",
       "      <th>84</th>\n",
       "      <td>0.890622</td>\n",
       "      <td>0.678465</td>\n",
       "    </tr>\n",
       "    <tr>\n",
       "      <th>86</th>\n",
       "      <td>0.891233</td>\n",
       "      <td>0.678771</td>\n",
       "    </tr>\n",
       "    <tr>\n",
       "      <th>88</th>\n",
       "      <td>0.890041</td>\n",
       "      <td>0.678171</td>\n",
       "    </tr>\n",
       "    <tr>\n",
       "      <th>90</th>\n",
       "      <td>0.890417</td>\n",
       "      <td>0.678509</td>\n",
       "    </tr>\n",
       "    <tr>\n",
       "      <th>92</th>\n",
       "      <td>0.890909</td>\n",
       "      <td>0.678145</td>\n",
       "    </tr>\n",
       "    <tr>\n",
       "      <th>94</th>\n",
       "      <td>0.890091</td>\n",
       "      <td>0.677830</td>\n",
       "    </tr>\n",
       "    <tr>\n",
       "      <th>96</th>\n",
       "      <td>0.890037</td>\n",
       "      <td>0.677685</td>\n",
       "    </tr>\n",
       "    <tr>\n",
       "      <th>98</th>\n",
       "      <td>0.889833</td>\n",
       "      <td>0.677653</td>\n",
       "    </tr>\n",
       "    <tr>\n",
       "      <th>100</th>\n",
       "      <td>0.890720</td>\n",
       "      <td>0.678004</td>\n",
       "    </tr>\n",
       "  </tbody>\n",
       "</table>\n",
       "</div>"
      ],
      "text/plain": [
       "     Avg RMSE   Avg MAE\n",
       "2    1.018185  0.785315\n",
       "4    0.945780  0.726422\n",
       "6    0.919274  0.704402\n",
       "8    0.907985  0.694670\n",
       "10   0.900566  0.688128\n",
       "12   0.898031  0.685315\n",
       "14   0.895245  0.682683\n",
       "16   0.892838  0.680807\n",
       "18   0.893598  0.680957\n",
       "20   0.891548  0.679053\n",
       "22   0.890492  0.678661\n",
       "24   0.891178  0.678899\n",
       "26   0.890790  0.678243\n",
       "28   0.889896  0.677627\n",
       "30   0.890224  0.677997\n",
       "32   0.889658  0.677616\n",
       "34   0.889924  0.677401\n",
       "36   0.889983  0.677771\n",
       "38   0.889405  0.677288\n",
       "40   0.889895  0.677780\n",
       "42   0.889430  0.677497\n",
       "44   0.890063  0.677914\n",
       "46   0.888887  0.676999\n",
       "48   0.889206  0.677133\n",
       "50   0.890377  0.677605\n",
       "52   0.890017  0.677512\n",
       "54   0.889651  0.677271\n",
       "56   0.889203  0.676932\n",
       "58   0.889188  0.677363\n",
       "60   0.890454  0.677981\n",
       "62   0.890219  0.677948\n",
       "64   0.889975  0.677395\n",
       "66   0.890996  0.678260\n",
       "68   0.889610  0.677476\n",
       "70   0.889597  0.677185\n",
       "72   0.888651  0.677122\n",
       "74   0.890439  0.678246\n",
       "76   0.889922  0.677737\n",
       "78   0.889441  0.677554\n",
       "80   0.890499  0.678370\n",
       "82   0.889595  0.677582\n",
       "84   0.890622  0.678465\n",
       "86   0.891233  0.678771\n",
       "88   0.890041  0.678171\n",
       "90   0.890417  0.678509\n",
       "92   0.890909  0.678145\n",
       "94   0.890091  0.677830\n",
       "96   0.890037  0.677685\n",
       "98   0.889833  0.677653\n",
       "100  0.890720  0.678004"
      ]
     },
     "execution_count": 88,
     "metadata": {},
     "output_type": "execute_result"
    }
   ],
   "source": [
    "reader = Reader(rating_scale=(0.5, 5))\n",
    "R_data = Dataset.load_from_df(Rdf[[\"userId\", \"movieId\", \"rating\"]], reader)\n",
    "\n",
    "sim_options = {'name': 'pearson',\n",
    "              'user_based': True}\n",
    "\n",
    "k_list = np.arange(2,101,2)\n",
    "scores = []\n",
    "\n",
    "for k in k_list:\n",
    "    algo = KNNWithMeans(k = k,sim_options=sim_options, verbose = False)\n",
    "    pred = cross_validate(algo, R_data, cv = 10, verbose = False, n_jobs = -1)\n",
    "    rmse = np.mean(pred['test_rmse'])\n",
    "    rmae = np.mean(pred['test_mae'])\n",
    "    scores.append([rmse, rmae])\n",
    "    \n",
    "scores_df = pd.DataFrame(scores, columns = ['Avg RMSE', 'Avg MAE'], index = k_list)\n",
    "\n",
    "scores_df"
   ]
  },
  {
   "cell_type": "code",
   "execution_count": 89,
   "metadata": {},
   "outputs": [
    {
     "data": {
      "text/plain": [
       "<AxesSubplot:title={'center':'Cross validation - MAE'}, xlabel='k', ylabel='MAE'>"
      ]
     },
     "execution_count": 89,
     "metadata": {},
     "output_type": "execute_result"
    },
    {
     "data": {
      "image/png": "[encoded data removed]",
      "text/plain": [
       "<Figure size 432x288 with 1 Axes>"
      ]
     },
     "metadata": {
      "needs_background": "light"
     },
     "output_type": "display_data"
    },
    {
     "data": {
      "image/png": "[encoded data removed]",
      "text/plain": [
       "<Figure size 432x288 with 1 Axes>"
      ]
     },
     "metadata": {
      "needs_background": "light"
     },
     "output_type": "display_data"
    }
   ],
   "source": [
    "scores_df.plot(y = 'Avg RMSE', xlabel = \"k\", ylabel = \"RMSE\", title = \"Cross validation - RMSE\")\n",
    "scores_df.plot(y = 'Avg MAE', xlabel = \"k\", ylabel = \"MAE\", title = \"Cross validation - MAE\")"
   ]
  },
  {
   "cell_type": "markdown",
   "metadata": {},
   "source": [
    "## Q 11.\n",
    "\n",
    "For RMSE, minimum k = 20, and RMSE(k=20) = 0.891\n",
    "\n",
    "For MAE, minimum k = 28, and MAE (k=28) = 0.677"
   ]
  },
  {
   "cell_type": "markdown",
   "metadata": {},
   "source": [
    "## Q 12."
   ]
  },
  {
   "cell_type": "code",
   "execution_count": 4,
   "metadata": {},
   "outputs": [],
   "source": [
    "reader = Reader(rating_scale=(0.5, 5))\n",
    "\n",
    "R_data = Dataset.load_from_df(Rdf[[\"userId\", \"movieId\", \"rating\"]], reader)\n",
    "\n",
    "sim_options = {'name': 'pearson',\n",
    "              'user_based': True}"
   ]
  },
  {
   "cell_type": "code",
   "execution_count": 5,
   "metadata": {},
   "outputs": [],
   "source": [
    "def popular_movies(df):\n",
    "    ts = df.value_counts('movieId') #ts is a series showing number of ratings for each 'movieId'\n",
    "    movies = ts[ts>2].index #ts[ts>2]'s indices are movieId values satisfying the condition\n",
    "    trim = df.loc[df['movieId'].isin(movies)]\n",
    "    trim\n",
    "    return trim"
   ]
  },
  {
   "cell_type": "code",
   "execution_count": 6,
   "metadata": {},
   "outputs": [],
   "source": [
    "kf = KFold(n_splits=10)\n",
    "\n",
    "k_list = np.arange(2,101,2)\n",
    "\n",
    "scores = []\n",
    "\n",
    "for k in k_list:\n",
    "    \n",
    "    algo = KNNWithMeans(k = k,sim_options=sim_options, verbose = False)\n",
    "    set_scores = []\n",
    "    for trainset, testset in kf.split(R_data):\n",
    "        #trainset and testset are lists made of tuples\n",
    "        algo.fit(trainset)\n",
    "        \n",
    "        test_df = pd.DataFrame(testset, columns = [\"userId\", \"movieId\", \"rating\"])#converting testset into dataframe test_df\n",
    "        test_df = popular_movies(test_df)\n",
    "        test_tuples = [tuple(x) for x in test_df.to_numpy()] #converting the trimmed test_df into tuples\n",
    "        \n",
    "        predictions = algo.test(test_tuples)\n",
    "\n",
    "        set_scores.append(accuracy.rmse(predictions, verbose=False))\n",
    "    \n",
    "    scores.append(sum(set_scores)/len(set_scores))"
   ]
  },
  {
   "cell_type": "code",
   "execution_count": 7,
   "metadata": {},
   "outputs": [
    {
     "name": "stdout",
     "output_type": "stream",
     "text": [
      "Minimum average RMSE is  0.8542364591375305\n"
     ]
    },
    {
     "data": {
      "image/png": "[encoded data removed]",
      "text/plain": [
       "<Figure size 432x288 with 1 Axes>"
      ]
     },
     "metadata": {
      "needs_background": "light"
     },
     "output_type": "display_data"
    }
   ],
   "source": [
    "print(\"Minimum average RMSE is \", min(scores))\n",
    "plt.plot(k_list, scores)\n",
    "plt.xlabel('k')\n",
    "plt.ylabel(\"Avg RMSE\")\n",
    "plt.title(\"Average RMSE over Popular test set\")\n",
    "plt.show()"
   ]
  },
  {
   "cell_type": "markdown",
   "metadata": {},
   "source": [
    "## Q 13. Unpopular movies test sets"
   ]
  },
  {
   "cell_type": "code",
   "execution_count": 8,
   "metadata": {},
   "outputs": [],
   "source": [
    "def unpopular_movies(df):\n",
    "    ts = df.value_counts('movieId') #ts is a series showing number of ratings for each 'movieId'\n",
    "    movies = ts[ts<=2].index #ts[ts>2]'s indices are movieId values satisfying the condition\n",
    "    trim = df.loc[df['movieId'].isin(movies)]\n",
    "    trim\n",
    "    return trim"
   ]
  },
  {
   "cell_type": "code",
   "execution_count": 9,
   "metadata": {},
   "outputs": [],
   "source": [
    "kf = KFold(n_splits=10)\n",
    "\n",
    "k_list = np.arange(2,101,2)\n",
    "\n",
    "scores = []\n",
    "\n",
    "for k in k_list:\n",
    "    \n",
    "    algo = KNNWithMeans(k = k,sim_options=sim_options, verbose = False)\n",
    "    set_scores = []\n",
    "    for trainset, testset in kf.split(R_data):\n",
    "        #trainset and testset are lists made of tuples\n",
    "        algo.fit(trainset)\n",
    "        \n",
    "        test_df = pd.DataFrame(testset, columns = [\"userId\", \"movieId\", \"rating\"])\n",
    "        test_df = unpopular_movies(test_df)\n",
    "        test_tuples = [tuple(x) for x in test_df.to_numpy()]\n",
    "        \n",
    "        predictions = algo.test(test_tuples)\n",
    "\n",
    "        set_scores.append(accuracy.rmse(predictions, verbose=False))\n",
    "    \n",
    "    scores.append(sum(set_scores)/len(set_scores))"
   ]
  },
  {
   "cell_type": "code",
   "execution_count": 10,
   "metadata": {},
   "outputs": [
    {
     "name": "stdout",
     "output_type": "stream",
     "text": [
      "Minimum average RMSE is  0.9530988852354133\n"
     ]
    },
    {
     "data": {
      "image/png": "[encoded data removed]",
      "text/plain": [
       "<Figure size 432x288 with 1 Axes>"
      ]
     },
     "metadata": {
      "needs_background": "light"
     },
     "output_type": "display_data"
    }
   ],
   "source": [
    "print(\"Minimum average RMSE is \", min(scores))\n",
    "plt.plot(k_list, scores)\n",
    "plt.xlabel('k')\n",
    "plt.ylabel(\"Avg RMSE\")\n",
    "plt.title(\"Average RMSE over Unopular test set\")\n",
    "plt.show()"
   ]
  },
  {
   "cell_type": "markdown",
   "metadata": {},
   "source": [
    "## Q 14. High variance movie trest sets"
   ]
  },
  {
   "cell_type": "code",
   "execution_count": 11,
   "metadata": {},
   "outputs": [],
   "source": [
    "def high_variance(df):\n",
    "    \n",
    "    #trimmed to contain movies with atleast five ratings.\n",
    "    ts = df.value_counts('movieId') \n",
    "    movies = ts[ts>=5].index\n",
    "    df = df.loc[df['movieId'].isin(movies)]\n",
    "    \n",
    "    #consider movies with variance >=2\n",
    "    mov_var = df[[\"movieId\",\"rating\"]].groupby(['movieId']).var().rename(columns ={'rating':'variance'})\n",
    "    movies = mov_var[mov_var['variance'] >= 2].index\n",
    "    df = df.loc[df['movieId'].isin(movies)]\n",
    "    return df"
   ]
  },
  {
   "cell_type": "code",
   "execution_count": 12,
   "metadata": {},
   "outputs": [],
   "source": [
    "kf = KFold(n_splits=10)\n",
    "\n",
    "k_list = np.arange(2,101,2)\n",
    "\n",
    "scores = []\n",
    "\n",
    "for k in k_list:\n",
    "    \n",
    "    algo = KNNWithMeans(k = k,sim_options=sim_options, verbose = False)\n",
    "    set_scores = []\n",
    "    for trainset, testset in kf.split(R_data):\n",
    "        #trainset and testset are lists made of tuples\n",
    "        algo.fit(trainset)\n",
    "        \n",
    "        test_df = pd.DataFrame(testset, columns = [\"userId\", \"movieId\", \"rating\"])\n",
    "        test_df = high_variance(test_df)\n",
    "        test_tuples = [tuple(x) for x in test_df.to_numpy()]\n",
    "        \n",
    "        predictions = algo.test(test_tuples)\n",
    "\n",
    "        set_scores.append(accuracy.rmse(predictions, verbose=False))\n",
    "    \n",
    "    scores.append(sum(set_scores)/len(set_scores))"
   ]
  },
  {
   "cell_type": "code",
   "execution_count": 13,
   "metadata": {},
   "outputs": [
    {
     "name": "stdout",
     "output_type": "stream",
     "text": [
      "Minimum average RMSE is  1.297356189327368\n"
     ]
    },
    {
     "data": {
      "image/png": "[encoded data removed]",
      "text/plain": [
       "<Figure size 432x288 with 1 Axes>"
      ]
     },
     "metadata": {
      "needs_background": "light"
     },
     "output_type": "display_data"
    }
   ],
   "source": [
    "print(\"Minimum average RMSE is \", min(scores))\n",
    "plt.plot(k_list, scores)\n",
    "plt.xlabel('k')\n",
    "plt.ylabel(\"Avg RMSE\")\n",
    "plt.title(\"Average RMSE over High Variance test set\")\n",
    "plt.show()"
   ]
  },
  {
   "cell_type": "code",
   "execution_count": null,
   "metadata": {},
   "outputs": [],
   "source": []
  },
  {
   "cell_type": "markdown",
   "metadata": {},
   "source": [
    "## Q 15."
   ]
  },
  {
   "cell_type": "code",
   "execution_count": 14,
   "metadata": {},
   "outputs": [],
   "source": [
    "from surprise.model_selection import train_test_split\n",
    "from sklearn.metrics import roc_curve, auc\n",
    "trainset, testset = train_test_split(R_data, test_size=.10)"
   ]
  },
  {
   "cell_type": "code",
   "execution_count": 15,
   "metadata": {},
   "outputs": [
    {
     "data": {
      "image/png": "[encoded data removed]",
      "text/plain": [
       "<Figure size 432x288 with 1 Axes>"
      ]
     },
     "metadata": {
      "needs_background": "light"
     },
     "output_type": "display_data"
    },
    {
     "data": {
      "image/png": "[encoded data removed]",
      "text/plain": [
       "<Figure size 432x288 with 1 Axes>"
      ]
     },
     "metadata": {
      "needs_background": "light"
     },
     "output_type": "display_data"
    },
    {
     "data": {
      "image/png": "[encoded data removed]",
      "text/plain": [
       "<Figure size 432x288 with 1 Axes>"
      ]
     },
     "metadata": {
      "needs_background": "light"
     },
     "output_type": "display_data"
    },
    {
     "data": {
      "image/png": "[encoded data removed]",
      "text/plain": [
       "<Figure size 432x288 with 1 Axes>"
      ]
     },
     "metadata": {
      "needs_background": "light"
     },
     "output_type": "display_data"
    }
   ],
   "source": [
    "thres_list = [2.5, 3, 3.5, 4]\n",
    "\n",
    "roc_auc = []\n",
    "\n",
    "for t in thres_list:\n",
    "    \n",
    "    algo = KNNWithMeans(k = 20,sim_options = sim_options, verbose = False)\n",
    "    algo.fit(trainset)\n",
    "    preds = algo.test(testset)\n",
    "    preds = np.asarray(preds)\n",
    "\n",
    "    true_scores = preds[:,2] >= t #actual scores\n",
    "    true_scores.astype(int)\n",
    "    pred_scores = preds[:,3] >= t #predicted scores\n",
    "    pred_scores.astype(int)\n",
    "    \n",
    "    fpr, tpr, _ = roc_curve(true_scores, pred_scores)\n",
    "    roc_auc.append(auc(fpr, tpr))\n",
    "    \n",
    "    plt.figure()\n",
    "    plt.plot(fpr, tpr, color='darkorange',\n",
    "             lw=2, label='ROC curve (area = %0.4f)' % roc_auc[-1])\n",
    "    plt.xlabel('False Positive Rate')\n",
    "    plt.ylabel('True Positive Rate')\n",
    "    plt.title('Receiver operating characteristic, treshold = {}'.format(t))\n",
    "    plt.legend(loc=\"lower right\")\n",
    "    plt.show()"
   ]
  }
 ],
 "metadata": {
  "kernelspec": {
   "display_name": "Python 3",
   "language": "python",
   "name": "python3"
  },
  "language_info": {
   "codemirror_mode": {
    "name": "ipython",
    "version": 3
   },
   "file_extension": ".py",
   "mimetype": "text/x-python",
   "name": "python",
   "nbconvert_exporter": "python",
   "pygments_lexer": "ipython3",
   "version": "3.8.5"
  }
 },
 "nbformat": 4,
 "nbformat_minor": 4
}
